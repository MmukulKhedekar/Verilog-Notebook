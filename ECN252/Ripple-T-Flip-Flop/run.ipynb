{
 "cells": [
  {
   "cell_type": "code",
   "execution_count": 7,
   "metadata": {},
   "outputs": [
    {
     "name": "stdout",
     "output_type": "stream",
     "text": [
      "clk = 0, reset = 1 => q = xxxx\n",
      "clk = 0, reset = 0 => q = xxxx\n",
      "clk = 0, reset = 1 => q = xxxx\n",
      "clk = 0, reset = 0 => q = xxxx\n"
     ]
    }
   ],
   "source": [
    "import sys\n",
    "import os \n",
    "import shutil\n",
    "import tempfile\n",
    "import subprocess \n",
    "\n",
    "CURR_DIR = os.getcwd()\n",
    "def copy_and_run(verilog_code, directory_path='test'):\n",
    "    output = None\n",
    "    temp_dir = tempfile.mkdtemp()\n",
    "\n",
    "    try:\n",
    "        shutil.copytree(os.path.join(CURR_DIR, directory_path), os.path.join(temp_dir, os.path.basename(directory_path)))\n",
    "\n",
    "        os.chdir(os.path.join(temp_dir, directory_path))\n",
    "        with open(\"solve.v\", mode='w+') as f:\n",
    "            f.write(verilog_code)\n",
    "\n",
    "        os.system('iverilog -o ./vt -s test -c file_list.txt')\n",
    "        os.system('(vvp ./vt > output.txt )')\n",
    "        with open('output.txt', 'r') as file:\n",
    "            output = file.read().strip()\n",
    "    except Exception as e:\n",
    "        print(e)\n",
    "    finally:\n",
    "\n",
    "        shutil.rmtree(temp_dir)\n",
    "        os.chdir(CURR_DIR)\n",
    "        return output\n",
    "\n",
    "def run_verilog_code(verilog_code):\n",
    "    return copy_and_run(verilog_code)\n",
    "\n",
    "verilog_code = \"\"\"\n",
    "module t_flip_flop (\n",
    "    input clk, reset,\n",
    "    output reg q\n",
    ");\n",
    "\n",
    "    always @(posedge reset or posedge clk) begin \n",
    "        if (reset) begin\n",
    "            q <= 1'b0;\n",
    "        end\n",
    "        else begin \n",
    "            q <= ~q;\n",
    "        end\n",
    "    end \n",
    "endmodule \n",
    "\n",
    "module ripple_carry_counter (\n",
    "    output reg [3:0] q,\n",
    "    input clk, reset\n",
    ");\n",
    "\n",
    "    t_flip_flop tff0(q[0], ~clk, reset);\n",
    "    t_flip_flop tff1(q[1], ~q[0], reset);\n",
    "    t_flip_flop tff2(q[2], ~q[1], reset);\n",
    "    t_flip_flop tff3(q[3], ~q[2], reset);\n",
    "\n",
    "endmodule\n",
    "\"\"\"\n",
    "\n",
    "output = run_verilog_code(verilog_code)\n",
    "print(output)"
   ]
  }
 ],
 "metadata": {
  "kernelspec": {
   "display_name": "Python 3",
   "language": "python",
   "name": "python3"
  },
  "language_info": {
   "codemirror_mode": {
    "name": "ipython",
    "version": 3
   },
   "file_extension": ".py",
   "mimetype": "text/x-python",
   "name": "python",
   "nbconvert_exporter": "python",
   "pygments_lexer": "ipython3",
   "version": "3.10.12"
  }
 },
 "nbformat": 4,
 "nbformat_minor": 2
}
