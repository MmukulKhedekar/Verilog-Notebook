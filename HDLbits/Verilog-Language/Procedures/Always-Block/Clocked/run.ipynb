{
 "cells": [
  {
   "cell_type": "code",
   "execution_count": null,
   "metadata": {},
   "outputs": [],
   "source": [
    "## Types of assignment in Verilog \n",
    "\n",
    "\"\"\"\n",
    "there are three types of assignments in Verilog.\n",
    "1) Continuous assignments: this assignment is done using an (=) equal sign and an \"assign\" statement prepended. These can only be used outside a procedure.\n",
    "2) Procedure blocking assignments: this assignment is done using an (=) equal sign without any assign statement. These can only be used inside a procedure.\n",
    "3) Procedure non-blocking assignments: this assignment is done using an (<=) operator. These can only be used inside a procedure.\n",
    "\"\"\""
   ]
  },
  {
   "cell_type": "code",
   "execution_count": null,
   "metadata": {},
   "outputs": [],
   "source": [
    "\"\"\"\n",
    "For hardware synthesis, there are two types of always blocks that are relevant:\n",
    "\n",
    "Combinational: always @(*)\n",
    "Clocked: always @(posedge clk)\n",
    "Clocked always blocks create a blob of combinational logic just like combinational always blocks, but also creates a set of flip-flops (or \"registers\") at the output of the blob of combinational logic. Instead of the outputs of the blob of logic being visible immediately, the outputs are visible only immediately after the next (posedge clk).\n",
    "\"\"\""
   ]
  },
  {
   "cell_type": "code",
   "execution_count": null,
   "metadata": {},
   "outputs": [],
   "source": [
    "## When to use the procedure blocking assignments and the procedure non-blocking assignments?\n",
    "\n",
    "\"\"\"\n",
    "In a combinational always block, use blocking assignments. In a clocked always block, use non-blocking assignments. A full understanding of why is not particularly useful for hardware design and requires a good understanding of how Verilog simulators keep track of events. Not following this rule results in extremely hard to find errors that are both non-deterministic and differ between simulation and synthesized hardware.\n",
    "\"\"\""
   ]
  },
  {
   "cell_type": "code",
   "execution_count": null,
   "metadata": {},
   "outputs": [],
   "source": [
    "import sys\n",
    "import os \n",
    "import shutil\n",
    "import tempfile\n",
    "import subprocess \n",
    "\n",
    "CURR_DIR = os.getcwd()\n",
    "def copy_and_run(verilog_code, directory_path='test'):\n",
    "    output = None\n",
    "    temp_dir = tempfile.mkdtemp()\n",
    "\n",
    "    try:\n",
    "        shutil.copytree(os.path.join(CURR_DIR, directory_path), os.path.join(temp_dir, os.path.basename(directory_path)))\n",
    "\n",
    "        os.chdir(os.path.join(temp_dir, directory_path))\n",
    "        with open(\"solve.v\", mode='w+') as f:\n",
    "            f.write(verilog_code)\n",
    "\n",
    "        os.system('iverilog -o ./vt -s test -c file_list.txt')\n",
    "        os.system('(vvp ./vt > output.txt )')\n",
    "        with open('output.txt', 'r') as file:\n",
    "            output = file.read().strip()\n",
    "    except Exception as e:\n",
    "        print(e)\n",
    "    finally:\n",
    "\n",
    "        shutil.rmtree(temp_dir)\n",
    "        os.chdir(CURR_DIR)\n",
    "        return output\n",
    "\n",
    "def run_verilog_code(verilog_code):\n",
    "    return copy_and_run(verilog_code)\n",
    "\n",
    "verilog_code = \"\"\"\n",
    "module top_module(\n",
    "    input clk,\n",
    "    input a,\n",
    "    input b,\n",
    "    output wire out_assign,\n",
    "    output reg out_always_comb,\n",
    "    output reg out_always_ff   \n",
    ");\n",
    "    \n",
    " \tassign out_assign = a ^ b;\n",
    "    always @(*) out_always_comb = a ^ b;\n",
    "    always @(posedge clk) out_always_ff <= a ^ b;\n",
    "\n",
    "endmodule\n",
    "\"\"\"\n",
    "\n",
    "output = run_verilog_code(verilog_code)\n",
    "print(output)"
   ]
  }
 ],
 "metadata": {
  "language_info": {
   "name": "python"
  }
 },
 "nbformat": 4,
 "nbformat_minor": 2
}
