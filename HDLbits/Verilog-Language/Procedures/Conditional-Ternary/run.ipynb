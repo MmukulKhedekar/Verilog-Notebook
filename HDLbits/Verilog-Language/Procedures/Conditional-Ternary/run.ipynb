{
 "cells": [
  {
   "cell_type": "code",
   "execution_count": null,
   "metadata": {},
   "outputs": [],
   "source": [
    "## the syntax for the conditional ternary operators in verilog is quite similar to that of C \n",
    "\n",
    "\"\"\"\n",
    "(condition ? if_true : if_false)\n",
    "\n",
    "This can be used to choose one of two values based on condition (a mux!) on one line, without using an if-then inside a combinational always block.\n",
    "\n",
    "Examples:\n",
    "\n",
    "(0 ? 3 : 5)     // This is 5 because the condition is false.\n",
    "(sel ? b : a)   // A 2-to-1 multiplexer between a and b selected by sel.\n",
    "\n",
    "always @(posedge clk)         // A T-flip-flop.\n",
    "  q <= toggle ? ~q : q;\n",
    "\n",
    "always @(*)                   // State transition logic for a one-input FSM\n",
    "  case (state)\n",
    "    A: next = w ? B : A;\n",
    "    B: next = w ? A : B;\n",
    "  endcase\n",
    "\n",
    "assign out = ena ? q : 1'bz;  // A tri-state buffer\n",
    "\n",
    "((sel[1:0] == 2'h0) ? a :     // A 3-to-1 mux\n",
    " (sel[1:0] == 2'h1) ? b :\n",
    "                      c )\n",
    "\"\"\""
   ]
  }
 ],
 "metadata": {
  "language_info": {
   "name": "python"
  }
 },
 "nbformat": 4,
 "nbformat_minor": 2
}
