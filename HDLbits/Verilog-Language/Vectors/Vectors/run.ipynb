{
 "cells": [
  {
   "cell_type": "code",
   "execution_count": null,
   "metadata": {},
   "outputs": [],
   "source": [
    "## This challenge asks us to implement a module that takes a 3 bit vector and prints the same vector as well as the individual bits"
   ]
  },
  {
   "cell_type": "code",
   "execution_count": 2,
   "metadata": {},
   "outputs": [
    {
     "name": "stdout",
     "output_type": "stream",
     "text": [
      "in = 000 => out = 000, o2 = 0, o1 = 0, o0 = 0\n",
      "in = 001 => out = 001, o2 = 0, o1 = 0, o0 = 1\n",
      "in = 010 => out = 010, o2 = 0, o1 = 1, o0 = 0\n",
      "in = 011 => out = 011, o2 = 0, o1 = 1, o0 = 1\n",
      "in = 100 => out = 100, o2 = 1, o1 = 0, o0 = 0\n",
      "in = 101 => out = 101, o2 = 1, o1 = 0, o0 = 1\n",
      "in = 110 => out = 110, o2 = 1, o1 = 1, o0 = 0\n",
      "in = 111 => out = 111, o2 = 1, o1 = 1, o0 = 1\n"
     ]
    }
   ],
   "source": [
    "import sys\n",
    "import os \n",
    "import shutil\n",
    "import tempfile\n",
    "import subprocess \n",
    "\n",
    "CURR_DIR = os.getcwd()\n",
    "def copy_and_run(verilog_code, directory_path='test'):\n",
    "    output = None\n",
    "    temp_dir = tempfile.mkdtemp()\n",
    "\n",
    "    try:\n",
    "        shutil.copytree(os.path.join(CURR_DIR, directory_path), os.path.join(temp_dir, os.path.basename(directory_path)))\n",
    "\n",
    "        os.chdir(os.path.join(temp_dir, directory_path))\n",
    "        with open(\"solve.v\", mode='w+') as f:\n",
    "            f.write(verilog_code)\n",
    "\n",
    "        os.system('iverilog -o ./vt -s test -c file_list.txt')\n",
    "        os.system('(vvp ./vt > output.txt )')\n",
    "        with open('output.txt', 'r') as file:\n",
    "            output = file.read().strip()\n",
    "    except Exception as e:\n",
    "        print(e)\n",
    "    finally:\n",
    "\n",
    "        shutil.rmtree(temp_dir)\n",
    "        os.chdir(CURR_DIR)\n",
    "        return output\n",
    "\n",
    "def run_verilog_code(verilog_code):\n",
    "    return copy_and_run(verilog_code)\n",
    "\n",
    "verilog_code = \"\"\"\n",
    "module top_module ( \n",
    "    input wire [2:0] vec,\n",
    "    output wire [2:0] outv,\n",
    "    output wire o2,\n",
    "    output wire o1,\n",
    "    output wire o0  \n",
    ");\n",
    "\n",
    "    assign outv = vec;\n",
    "    assign o0 = vec[0];\n",
    "    assign o1 = vec[1];\n",
    "    assign o2 = vec[2];\n",
    "\n",
    "endmodule\n",
    "\"\"\"\n",
    "\n",
    "output = run_verilog_code(verilog_code)\n",
    "print(output)\n",
    "\n"
   ]
  }
 ],
 "metadata": {
  "kernelspec": {
   "display_name": "Python 3",
   "language": "python",
   "name": "python3"
  },
  "language_info": {
   "codemirror_mode": {
    "name": "ipython",
    "version": 3
   },
   "file_extension": ".py",
   "mimetype": "text/x-python",
   "name": "python",
   "nbconvert_exporter": "python",
   "pygments_lexer": "ipython3",
   "version": "3.10.12"
  }
 },
 "nbformat": 4,
 "nbformat_minor": 2
}
