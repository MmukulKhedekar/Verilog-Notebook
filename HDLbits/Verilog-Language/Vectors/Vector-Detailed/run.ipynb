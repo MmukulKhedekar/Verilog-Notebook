{
 "cells": [
  {
   "cell_type": "code",
   "execution_count": null,
   "metadata": {},
   "outputs": [],
   "source": [
    "## vectors are used to group related signals using a single variable name. vectors can be imagined to be a group of several wires.\n",
    "## the syntax for declaring a vector is \n",
    "\n",
    "\"\"\"\n",
    "    type [upper:lower] vector_name;\n",
    "\"\"\"\n",
    "\n",
    "## endian-ness of a vector. if a vector is written in the little endian format: [upper:lower], then the LSB has the least index\n",
    "## if a vector is written in the big endian format: [lower:upper], then the MSB has the least index\n",
    "\n"
   ]
  },
  {
   "cell_type": "code",
   "execution_count": null,
   "metadata": {},
   "outputs": [],
   "source": [
    "## implicit nets in verilog\n",
    "\n",
    "\"\"\"\n",
    "Implicit nets are often a source of hard-to-detect bugs. In Verilog, net-type signals can be implicitly created by an assign statement or by attaching something undeclared to a module port. Implicit nets are always one-bit wires and causes bugs if you had intended to use a vector. Disabling creation of implicit nets can be done using the `default_nettype none directive.\n",
    "\n",
    "wire [2:0] a, c;   // Two vectors\n",
    "assign a = 3'b101;  // a = 101\n",
    "assign b = a;       // b =   1  implicitly-created wire\n",
    "assign c = b;       // c = 001  <-- bug\n",
    "my_module i1 (d,e); // d and e are implicitly one-bit wide if not declared.\n",
    "                    // This could be a bug if the port was intended to be a vector.\n",
    "\n",
    "Adding `default_nettype none would make the second line of code an error, which makes the bug more visible.\n",
    "\"\"\"\n"
   ]
  },
  {
   "cell_type": "code",
   "execution_count": null,
   "metadata": {},
   "outputs": [],
   "source": [
    "## Unpacked and Packed arrays\n",
    "\n",
    "## so far we have seen the declaration of a vector in which the [upper:lower] bits are mentioned before the vector name. this is the syntax\n",
    "## for the declaration of packed arrays. If we declare these dimensions after the vector name, then we declare unpacked arrays. They are \n",
    "## generally used to declare memory arrays. "
   ]
  },
  {
   "cell_type": "code",
   "execution_count": null,
   "metadata": {},
   "outputs": [],
   "source": [
    "## Accessing Vectors\n",
    "\n",
    "\"\"\"\n",
    "Accessing an entire vector is done using the vector name. For example:\n",
    "\n",
    "assign w = a;\n",
    "takes the entire 4-bit vector a and assigns it to the entire 8-bit vector w (declarations are taken from above). If the lengths of the right and left sides don't match, it is zero-extended or truncated as appropriate.\n",
    "The part-select operator can be used to access a portion of a vector:\n",
    "\n",
    "w[3:0]      // Only the lower 4 bits of w\n",
    "x[1]        // The lowest bit of x\n",
    "x[1:1]      // ...also the lowest bit of x\n",
    "z[-1:-2]    // Two lowest bits of z\n",
    "b[3:0]      // Illegal. Vector part-select must match the direction of the declaration.\n",
    "b[0:3]      // The *upper* 4 bits of b.\n",
    "assign w[3:0] = b[0:3];    // Assign upper 4 bits of b to lower 4 bits of w. w[3]=b[0], w[2]=b[1], etc.\n",
    "\n",
    "\"\"\""
   ]
  },
  {
   "cell_type": "code",
   "execution_count": null,
   "metadata": {},
   "outputs": [],
   "source": [
    "## This challenge asks us to split a one-byte word into two half bytes"
   ]
  },
  {
   "cell_type": "code",
   "execution_count": null,
   "metadata": {},
   "outputs": [],
   "source": [
    "import sys\n",
    "import os \n",
    "import shutil\n",
    "import tempfile\n",
    "import subprocess \n",
    "\n",
    "CURR_DIR = os.getcwd()\n",
    "def copy_and_run(verilog_code, directory_path='test'):\n",
    "    output = None\n",
    "    temp_dir = tempfile.mkdtemp()\n",
    "\n",
    "    try:\n",
    "        shutil.copytree(os.path.join(CURR_DIR, directory_path), os.path.join(temp_dir, os.path.basename(directory_path)))\n",
    "\n",
    "        os.chdir(os.path.join(temp_dir, directory_path))\n",
    "        with open(\"solve.v\", mode='w+') as f:\n",
    "            f.write(verilog_code)\n",
    "\n",
    "        os.system('iverilog -o ./vt -s test -c file_list.txt')\n",
    "        os.system('(vvp ./vt > output.txt )')\n",
    "        with open('output.txt', 'r') as file:\n",
    "            output = file.read().strip()\n",
    "    except Exception as e:\n",
    "        print(e)\n",
    "    finally:\n",
    "\n",
    "        shutil.rmtree(temp_dir)\n",
    "        os.chdir(CURR_DIR)\n",
    "        return output\n",
    "\n",
    "def run_verilog_code(verilog_code):\n",
    "    return copy_and_run(verilog_code)\n",
    "\n",
    "verilog_code = \"\"\"\n",
    "module top_module( \n",
    "    input wire [15:0] in,\n",
    "    output wire [7:0] out_hi,\n",
    "    output wire [7:0] out_lo \n",
    ");\n",
    "    \n",
    "    assign out_hi[7:0] = in[15:8];\n",
    "    assign out_lo[7:0] = in[7:0];\n",
    "\n",
    "endmodule\n",
    "\n",
    "\"\"\"\n",
    "\n",
    "output = run_verilog_code(verilog_code)\n",
    "print(output)\n",
    "\n"
   ]
  }
 ],
 "metadata": {
  "language_info": {
   "name": "python"
  }
 },
 "nbformat": 4,
 "nbformat_minor": 2
}
