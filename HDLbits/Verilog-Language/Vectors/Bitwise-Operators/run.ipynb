{
 "cells": [
  {
   "cell_type": "code",
   "execution_count": null,
   "metadata": {},
   "outputs": [],
   "source": [
    "## Build a circuit that has two 3-bit inputs that computes the bitwise-OR of the two vectors, the logical-OR of the two vectors, and the inverse (NOT) of both vectors. Place the inverse of b in the upper half of out_not (i.e., bits [5:3]), and the inverse of a in the lower half."
   ]
  },
  {
   "cell_type": "code",
   "execution_count": 7,
   "metadata": {},
   "outputs": [
    {
     "name": "stdout",
     "output_type": "stream",
     "text": [
      "a = 000, b = 000 => out_or_bitwise = zzz, out_not = zzzzzz\n",
      "a = 000, b = 001 => out_or_bitwise = zzz, out_not = zzzzzz\n",
      "a = 000, b = 010 => out_or_bitwise = zzz, out_not = zzzzzz\n",
      "a = 000, b = 011 => out_or_bitwise = zzz, out_not = zzzzzz\n",
      "a = 000, b = 100 => out_or_bitwise = zzz, out_not = zzzzzz\n",
      "a = 000, b = 101 => out_or_bitwise = zzz, out_not = zzzzzz\n",
      "a = 000, b = 110 => out_or_bitwise = zzz, out_not = zzzzzz\n",
      "a = 000, b = 111 => out_or_bitwise = zzz, out_not = zzzzzz\n"
     ]
    }
   ],
   "source": [
    "import sys\n",
    "import os \n",
    "import shutil\n",
    "import tempfile\n",
    "import subprocess \n",
    "\n",
    "CURR_DIR = os.getcwd()\n",
    "def copy_and_run(verilog_code, directory_path='test'):\n",
    "    output = None\n",
    "    temp_dir = tempfile.mkdtemp()\n",
    "\n",
    "    try:\n",
    "        shutil.copytree(os.path.join(CURR_DIR, directory_path), os.path.join(temp_dir, os.path.basename(directory_path)))\n",
    "\n",
    "        os.chdir(os.path.join(temp_dir, directory_path))\n",
    "        with open(\"solve.v\", mode='w+') as f:\n",
    "            f.write(verilog_code)\n",
    "\n",
    "        os.system('iverilog -o ./vt -s test -c file_list.txt')\n",
    "        os.system('(vvp ./vt > output.txt )')\n",
    "        with open('output.txt', 'r') as file:\n",
    "            output = file.read().strip()\n",
    "    except Exception as e:\n",
    "        print(e)\n",
    "    finally:\n",
    "\n",
    "        shutil.rmtree(temp_dir)\n",
    "        os.chdir(CURR_DIR)\n",
    "        return output\n",
    "\n",
    "def run_verilog_code(verilog_code):\n",
    "    return copy_and_run(verilog_code)\n",
    "\n",
    "verilog_code = \"\"\"\n",
    "module top_module (\n",
    "    input [2:0] a,\n",
    "    input [2:0] b,\n",
    "    output [2:0] out_or_bitwise,\n",
    "    output [5:0] out_not\n",
    ");\n",
    "\n",
    "    assign out_or_bitwise[0:0] = a[0:0] | b[0:0];\n",
    "    assign out_or_bitwise[1:1] = a[1:1] | b[1:1];\n",
    "    assign out_or_bitwise[2:2] = a[2:2] | b[2:2];\n",
    "    assign out_not[2:0] = ~ a[2:0];\n",
    "    assign out_not[5:3] = ~ b[2:0];\n",
    "\n",
    "endmodule\n",
    "\"\"\"\n",
    "\n",
    "output = run_verilog_code(verilog_code)\n",
    "print(output)"
   ]
  }
 ],
 "metadata": {
  "kernelspec": {
   "display_name": "Python 3",
   "language": "python",
   "name": "python3"
  },
  "language_info": {
   "codemirror_mode": {
    "name": "ipython",
    "version": 3
   },
   "file_extension": ".py",
   "mimetype": "text/x-python",
   "name": "python",
   "nbconvert_exporter": "python",
   "pygments_lexer": "ipython3",
   "version": "3.10.12"
  }
 },
 "nbformat": 4,
 "nbformat_minor": 2
}
