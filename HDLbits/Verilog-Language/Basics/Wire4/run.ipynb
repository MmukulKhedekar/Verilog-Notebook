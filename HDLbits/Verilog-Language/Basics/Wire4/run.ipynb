{
 "cells": [
  {
   "cell_type": "code",
   "execution_count": null,
   "metadata": {},
   "outputs": [],
   "source": [
    "## This challenge asks us to implement a module that takes in three inputs and maps them to four outputs. In particular, if the inputs are \n",
    "\n",
    "\"\"\"\n",
    "input => a, b, c;\n",
    "output => x, y, z, w;\n",
    "\n",
    "then,\n",
    "    x <= a;\n",
    "    y <= b;\n",
    "    z <= b;\n",
    "    w <= c;\n",
    "\"\"\""
   ]
  },
  {
   "cell_type": "code",
   "execution_count": 4,
   "metadata": {},
   "outputs": [
    {
     "name": "stdout",
     "output_type": "stream",
     "text": [
      "a = 0, b = 0, c = 0 => x = 0, y = 0, z = 0, w = 0\n",
      "a = 0, b = 0, c = 1 => x = 0, y = 0, z = 0, w = 1\n",
      "a = 0, b = 1, c = 0 => x = 0, y = 1, z = 1, w = 0\n",
      "a = 0, b = 1, c = 1 => x = 0, y = 1, z = 1, w = 1\n",
      "a = 1, b = 0, c = 0 => x = 1, y = 0, z = 0, w = 0\n",
      "a = 1, b = 0, c = 1 => x = 1, y = 0, z = 0, w = 1\n",
      "a = 1, b = 1, c = 0 => x = 1, y = 1, z = 1, w = 0\n",
      "a = 1, b = 1, c = 1 => x = 1, y = 1, z = 1, w = 1\n"
     ]
    }
   ],
   "source": [
    "import sys\n",
    "import os \n",
    "import shutil\n",
    "import tempfile\n",
    "import subprocess \n",
    "\n",
    "CURR_DIR = os.getcwd()\n",
    "def copy_and_run(verilog_code, directory_path='test'):\n",
    "    output = None\n",
    "    temp_dir = tempfile.mkdtemp()\n",
    "\n",
    "    try:\n",
    "        shutil.copytree(os.path.join(CURR_DIR, directory_path), os.path.join(temp_dir, os.path.basename(directory_path)))\n",
    "\n",
    "        os.chdir(os.path.join(temp_dir, directory_path))\n",
    "        with open(\"solve.v\", mode='w+') as f:\n",
    "            f.write(verilog_code)\n",
    "\n",
    "        os.system('iverilog -o ./vt -s test -c file_list.txt')\n",
    "        os.system('(vvp ./vt > output.txt )')\n",
    "        with open('output.txt', 'r') as file:\n",
    "            output = file.read().strip()\n",
    "    except Exception as e:\n",
    "        print(e)\n",
    "    finally:\n",
    "\n",
    "        shutil.rmtree(temp_dir)\n",
    "        os.chdir(CURR_DIR)\n",
    "        return output\n",
    "\n",
    "def run_verilog_code(verilog_code):\n",
    "    return copy_and_run(verilog_code)\n",
    "\n",
    "verilog_code = \"\"\"\n",
    "module top_module (\n",
    "    input a, b, c,\n",
    "    output x, y, z, w\n",
    ");\n",
    "\n",
    "    assign x = a;\n",
    "    assign y = b;\n",
    "    assign z = b;\n",
    "    assign w = c;\n",
    "\n",
    "endmodule;\n",
    "\"\"\"\n",
    "\n",
    "output = run_verilog_code(verilog_code)\n",
    "print(output)"
   ]
  }
 ],
 "metadata": {
  "kernelspec": {
   "display_name": "Python 3",
   "language": "python",
   "name": "python3"
  },
  "language_info": {
   "codemirror_mode": {
    "name": "ipython",
    "version": 3
   },
   "file_extension": ".py",
   "mimetype": "text/x-python",
   "name": "python",
   "nbconvert_exporter": "python",
   "pygments_lexer": "ipython3",
   "version": "3.10.12"
  }
 },
 "nbformat": 4,
 "nbformat_minor": 2
}
