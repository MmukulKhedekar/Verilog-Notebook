{
 "cells": [
  {
   "cell_type": "code",
   "execution_count": null,
   "metadata": {},
   "outputs": [],
   "source": [
    "## In this challenge we are given a module that implements a 16-bit adder full adder \n",
    "\n",
    "\"\"\"\n",
    "module add16 ( input[15:0] a, input[15:0] b, input cin, output[15:0] sum, output cout );\n",
    "\"\"\"\n",
    "\n",
    "## you are asked to design a 32-bit full adder using two 16-bit full adder\n"
   ]
  },
  {
   "cell_type": "code",
   "execution_count": null,
   "metadata": {},
   "outputs": [],
   "source": [
    "import sys\n",
    "import os \n",
    "import shutil\n",
    "import tempfile\n",
    "import subprocess \n",
    "\n",
    "CURR_DIR = os.getcwd()\n",
    "def copy_and_run(verilog_code, directory_path='test'):\n",
    "    output = None\n",
    "    temp_dir = tempfile.mkdtemp()\n",
    "\n",
    "    try:\n",
    "        shutil.copytree(os.path.join(CURR_DIR, directory_path), os.path.join(temp_dir, os.path.basename(directory_path)))\n",
    "\n",
    "        os.chdir(os.path.join(temp_dir, directory_path))\n",
    "        with open(\"solve.v\", mode='w+') as f:\n",
    "            f.write(verilog_code)\n",
    "\n",
    "        os.system('iverilog -o ./vt -s test -c file_list.txt')\n",
    "        os.system('(vvp ./vt > output.txt )')\n",
    "        with open('output.txt', 'r') as file:\n",
    "            output = file.read().strip()\n",
    "    except Exception as e:\n",
    "        print(e)\n",
    "    finally:\n",
    "\n",
    "        shutil.rmtree(temp_dir)\n",
    "        os.chdir(CURR_DIR)\n",
    "        return output\n",
    "\n",
    "def run_verilog_code(verilog_code):\n",
    "    return copy_and_run(verilog_code)\n",
    "\n",
    "verilog_code = \"\"\"\n",
    "module top_module(\n",
    "    input [31:0] a,\n",
    "    input [31:0] b,\n",
    "    output [31:0] sum\n",
    ");\n",
    "    \n",
    "    wire carry, cout;\n",
    "    \n",
    "    add16 adder1(a[15:0], b[15:0], 0, sum[15:0], carry);\n",
    "    add16 adder2(a[31:16], b[31:16], carry, sum[31:16], cout);\n",
    "\n",
    "endmodule\n",
    "\n",
    "\"\"\"\n",
    "\n",
    "output = run_verilog_code(verilog_code)\n",
    "print(output)"
   ]
  }
 ],
 "metadata": {
  "language_info": {
   "name": "python"
  }
 },
 "nbformat": 4,
 "nbformat_minor": 2
}
