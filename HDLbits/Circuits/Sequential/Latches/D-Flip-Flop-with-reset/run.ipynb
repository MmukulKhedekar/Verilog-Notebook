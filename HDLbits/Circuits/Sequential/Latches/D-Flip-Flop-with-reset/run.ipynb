{
 "cells": [
  {
   "cell_type": "code",
   "execution_count": null,
   "metadata": {},
   "outputs": [],
   "source": [
    "## Create 8 D flip-flops with active high synchronous reset. All DFFs should be triggered by the positive edge of clk."
   ]
  },
  {
   "cell_type": "code",
   "execution_count": null,
   "metadata": {},
   "outputs": [],
   "source": [
    "import sys\n",
    "import os \n",
    "import shutil\n",
    "import tempfile\n",
    "import subprocess \n",
    "\n",
    "CURR_DIR = os.getcwd()\n",
    "def copy_and_run(verilog_code, directory_path='test'):\n",
    "    output = None\n",
    "    temp_dir = tempfile.mkdtemp()\n",
    "\n",
    "    try:\n",
    "        shutil.copytree(os.path.join(CURR_DIR, directory_path), os.path.join(temp_dir, os.path.basename(directory_path)))\n",
    "\n",
    "        os.chdir(os.path.join(temp_dir, directory_path))\n",
    "        with open(\"solve.v\", mode='w+') as f:\n",
    "            f.write(verilog_code)\n",
    "\n",
    "        os.system('iverilog -o ./vt -s test -c file_list.txt')\n",
    "        os.system('(vvp ./vt > output.txt )')\n",
    "        with open('output.txt', 'r') as file:\n",
    "            output = file.read().strip()\n",
    "    except Exception as e:\n",
    "        print(e)\n",
    "    finally:\n",
    "\n",
    "        shutil.rmtree(temp_dir)\n",
    "        os.chdir(CURR_DIR)\n",
    "        return output\n",
    "\n",
    "def run_verilog_code(verilog_code):\n",
    "    return copy_and_run(verilog_code)\n",
    "\n",
    "verilog_code = \"\"\"\n",
    "module top_module (\n",
    "    input clk,\n",
    "    input reset,            // Synchronous reset\n",
    "    input [7:0] d,\n",
    "    output [7:0] q\n",
    ");\n",
    "    \n",
    "    always @(posedge clk) begin\n",
    "        if (reset) begin\n",
    "            q[7:0] <= {8{1'b0}}; \n",
    "        end\n",
    "        else begin \n",
    "            q[7:0] <= d[7:0]; \n",
    "        end\n",
    "    end\n",
    "\n",
    "endmodule\n",
    "\n",
    "\"\"\"\n",
    "\n",
    "output = run_verilog_code(verilog_code)\n",
    "print(output)\n"
   ]
  }
 ],
 "metadata": {
  "language_info": {
   "name": "python"
  }
 },
 "nbformat": 4,
 "nbformat_minor": 2
}
